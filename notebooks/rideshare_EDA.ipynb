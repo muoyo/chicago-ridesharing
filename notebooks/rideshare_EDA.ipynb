{
 "cells": [
  {
   "cell_type": "markdown",
   "metadata": {
    "colab_type": "text",
    "id": "view-in-github"
   },
   "source": [
    "<a href=\"https://colab.research.google.com/github/muoyo/chicago-ridesharing/blob/master/notebooks/rideshare_EDA.ipynb\" target=\"_parent\"><img src=\"https://colab.research.google.com/assets/colab-badge.svg\" alt=\"Open In Colab\"/></a>"
   ]
  },
  {
   "cell_type": "code",
   "execution_count": null,
   "metadata": {
    "colab": {
     "base_uri": "https://localhost:8080/",
     "height": 163
    },
    "colab_type": "code",
    "id": "1sIEe68Icd6f",
    "outputId": "a771fa65-08fc-4826-bd50-35af07743e67"
   },
   "outputs": [],
   "source": [
    "!pip install sodapy"
   ]
  },
  {
   "cell_type": "code",
   "execution_count": 16,
   "metadata": {
    "colab": {},
    "colab_type": "code",
    "id": "l5nUpfuVFfSJ"
   },
   "outputs": [],
   "source": [
    "import time\n",
    "import numpy as np\n",
    "import pandas as pd\n",
    "import seaborn as sns\n",
    "from sodapy import Socrata\n",
    "import statsmodels.api as sm\n",
    "from datetime import datetime\n",
    "import matplotlib.pyplot as plt\n",
    "from sklearn.linear_model import Lasso\n",
    "from sklearn.linear_model import Ridge\n",
    "from sklearn.impute import SimpleImputer\n",
    "from sklearn.linear_model import LinearRegression\n",
    "from sklearn.model_selection import train_test_split\n",
    "from sklearn.preprocessing import OneHotEncoder, StandardScaler\n",
    "from sklearn.metrics import mean_squared_error, mean_squared_log_error\n",
    "%matplotlib inline"
   ]
  },
  {
   "cell_type": "code",
   "execution_count": 17,
   "metadata": {
    "colab": {},
    "colab_type": "code",
    "id": "FIkF9DflMaRA"
   },
   "outputs": [],
   "source": [
    "def get_random_samples(client, num_samples=200, sample_size=1000, verbose=False):\n",
    "    \n",
    "    start = time.time()\n",
    "\n",
    "    # Perform a $select=count(*) query to determine how large the set is\n",
    "    results = client.get(\"m6dm-c72p\", select='count(*)' )\n",
    "    total_rows = int(results[0].get('count', 0))\n",
    "    row_indices = np.arange(0, total_rows, sample_size)\n",
    "    results = []\n",
    "\n",
    "    # Use rand() locally to come up with some offsets\n",
    "    sample_offsets = np.random.choice(row_indices, size=num_samples, replace=False)\n",
    "\n",
    "\n",
    "    # Use $limit and $offset in conjunction with a stable $order to pick out individual records. \n",
    "    # Ex: $order=facility_id&$limit=1&$offset=<some rand() number>\n",
    "    for i, offset in enumerate (sample_offsets):\n",
    "\n",
    "        if verbose:\n",
    "            print(f'Sample {i}: offset={offset},sample_size={sample_size}')\n",
    "            print('Pure Python time:', time.time() - start, 'sec.')\n",
    "        results.extend(client.get(\"m6dm-c72p\", order='trip_id', limit=sample_size, offset=offset, \n",
    "                                                  select='''trip_id, trip_start_timestamp, pickup_community_area, fare, tip, trip_total'''))\n",
    "        \n",
    "    if verbose:\n",
    "        print('Pure Python time:', time.time() - start, 'sec.')\n",
    "\n",
    "    return results"
   ]
  },
  {
   "cell_type": "code",
   "execution_count": 18,
   "metadata": {
    "colab": {},
    "colab_type": "code",
    "id": "LZGbKwRi7Y0-"
   },
   "outputs": [],
   "source": [
    "# %run ../python_files/utils\n",
    "# %run ../python_files/data_cleaning\n",
    "\n",
    "# df = get_trip_records(100000)\n",
    "# df = clean_data(df)\n",
    "# df"
   ]
  },
  {
   "cell_type": "code",
   "execution_count": 19,
   "metadata": {
    "colab": {
     "base_uri": "https://localhost:8080/",
     "height": 1000
    },
    "colab_type": "code",
    "id": "PVbvMPoG7jju",
    "outputId": "41d5f6d7-59db-4629-edc8-a9adbf4f2b70"
   },
   "outputs": [],
   "source": [
    "# samples = get_random_samples(client, verbose=True )\n",
    "# samples[:10]"
   ]
  },
  {
   "cell_type": "code",
   "execution_count": 20,
   "metadata": {
    "colab": {
     "base_uri": "https://localhost:8080/",
     "height": 391
    },
    "colab_type": "code",
    "id": "DyQsXmwWqcQj",
    "outputId": "47cde1c3-1126-420a-e843-02b00a7b1e73"
   },
   "outputs": [],
   "source": [
    "# samples_df = pd.DataFrame.from_records(samples)\n",
    "# samples_df"
   ]
  },
  {
   "cell_type": "code",
   "execution_count": null,
   "metadata": {
    "colab": {
     "base_uri": "https://localhost:8080/",
     "height": 573
    },
    "colab_type": "code",
    "id": "YXa6tjeO6lDm",
    "outputId": "3c4ea867-0802-4ec6-d2a8-c52333bb636a"
   },
   "outputs": [],
   "source": [
    "client = Socrata('data.cityofchicago.org',\n",
    "             'Tk6RhuGAFvF9P4ehsysybj3IW',\n",
    "             username=\"mokome@gmail.com\",\n",
    "             password=\"Ch1cago!!\")\n",
    "\n",
    "client.timeout = 10000\n",
    "\n",
    "results = client.get(\"m6dm-c72p\", limit=1000000, select='trip_id, trip_start_timestamp, trip_end_timestamp, trip_seconds, trip_miles, pickup_community_area, dropoff_community_area, fare, tip, additional_charges, trip_total' )\n",
    "\n",
    "# Convert to pandas DataFrame\n",
    "results_df = pd.DataFrame.from_records(results)\n",
    "results_df"
   ]
  },
  {
   "cell_type": "code",
   "execution_count": null,
   "metadata": {
    "colab": {
     "base_uri": "https://localhost:8080/",
     "height": 211
    },
    "colab_type": "code",
    "id": "iR4czwER1-j-",
    "outputId": "86092c36-2b11-49e2-b685-3e44dcc24797"
   },
   "outputs": [],
   "source": [
    "columns_to_use = ['trip_id', 'trip_start_timestamp', 'trip_end_timestamp', 'trip_seconds',\n",
    "       'trip_miles', 'pickup_community_area', 'fare', 'tip',\n",
    "       'additional_charges', 'trip_total' ]\n",
    "\n",
    "columns_to_drop = [ col for col in results_df.columns if col not in columns_to_use ]\n",
    "df = results_df.drop(columns=columns_to_drop)\n",
    "\n",
    "df['trip_start_timestamp'] = pd.to_datetime(df['trip_start_timestamp'])\n",
    "df['trip_end_timestamp'] = pd.to_datetime(df['trip_end_timestamp'])\n",
    "df['trip_seconds'] = df['trip_seconds'].fillna('0')\n",
    "df['trip_seconds'] = df['trip_seconds'].astype('int64')\n",
    "\n",
    "for col in ['trip_miles', 'fare', 'tip', 'additional_charges', 'trip_total']:\n",
    "    df[col] = df[col].astype(float) \n",
    "\n",
    "df['start_weekday'] = df['trip_start_timestamp'].apply(lambda d: d.weekday())\n",
    "df['start_hour'] = df['trip_start_timestamp'].apply(lambda d: d.hour)\n",
    "df['start_time_block'] = df['start_hour'] // 3\n",
    "\n",
    "df['start_date_plus_hour'] = df['trip_start_timestamp'].apply(lambda d: datetime(d.year, d.month, d.day, d.hour))\n",
    "\n",
    "weather_df = pd.read_csv('../data/chicago_weather.csv')\n",
    "weather_df['hour'] = weather_df['hour'].apply(lambda x: '{:02d}'.format(x))\n",
    "weather_df['start_date_plus_hour'] = pd.to_datetime(weather_df['date'] + ' ' + weather_df['hour'] + ':00:00')\n",
    "weather_df = weather_df.rename(columns={'icon': 'precip'})\n",
    "\n",
    "# def set_precip(precip):\n",
    "#     if precip not in ['rain', 'snow']: \n",
    "#         precip = 'clear'\n",
    "\n",
    "#     return precip\n",
    "\n",
    "# weather_df['precip'] = weather_df['precip'].apply(set_precip)\n",
    "precip_df = weather_df[['start_date_plus_hour', 'precip', 'apparentTemperature']]\n",
    "\n",
    "df = df.merge(precip_df, how='left', on='start_date_plus_hour')\n",
    "df.head()"
   ]
  },
  {
   "cell_type": "code",
   "execution_count": null,
   "metadata": {
    "colab": {
     "base_uri": "https://localhost:8080/",
     "height": 358
    },
    "colab_type": "code",
    "id": "cZGPZ46W0j_5",
    "outputId": "3a148986-8a8c-4a88-87ab-065062444045"
   },
   "outputs": [],
   "source": [
    "df.head()\n",
    "df.info()"
   ]
  },
  {
   "cell_type": "code",
   "execution_count": null,
   "metadata": {
    "colab": {
     "base_uri": "https://localhost:8080/",
     "height": 1000
    },
    "colab_type": "code",
    "id": "_XH8xOP6xGGa",
    "outputId": "16ef91ce-e03a-4922-c5d0-42a41a5ca12f"
   },
   "outputs": [],
   "source": [
    "# Limit to the columns we are interested in: \n",
    "# 'apparentTemperature', 'start_weekday', 'start_hour', (OR 'start_time_block'), 'pickup_community_area' \n",
    "\n",
    "columns_to_use = ['apparentTemperature', 'start_weekday', 'start_hour', 'pickup_community_area']\n",
    "columns_to_drop = [ col for col in df.columns if col not in columns_to_use ]\n",
    "\n",
    "# Use dependent variables listed above to predict the independent variable: 'trip_total' OR 'fare'\n",
    "X = df.drop(columns=columns_to_drop)\n",
    "y = df['trip_total']\n",
    "\n",
    "\n",
    "# deal with any null values\n",
    "X['apparentTemperature']=X['apparentTemperature'].fillna(X['apparentTemperature'].median())\n",
    "X['pickup_community_area']=X['pickup_community_area'].fillna('0')\n",
    "\n",
    "\n",
    "# Split out continuous & categorical variables\n",
    "cont_cols = ['apparentTemperature']\n",
    "cat_cols = [ col for col in columns_to_use if col not in cont_cols ]\n",
    "\n",
    "enc = OneHotEncoder()\n",
    "\n",
    "# Split data into training and test sets\n",
    "X_train, X_test, y_train, y_test = train_test_split(X, y, test_size=0.25)\n",
    "\n",
    "X_train_cont = X_train[cont_cols]\n",
    "X_train_cat = X_train[cat_cols]\n",
    "\n",
    "# ss = StandardScaler()\n",
    "# X_train_cont = pd.DataFrame(ss.fit_transform(X_train_cont))\n",
    "X_train_cont = (X_train_cont - X_train_cont.mean()) / (X_train_cont.max() - X_train_cont.min())\n",
    "\n",
    "# Transform training set\n",
    "X_train_enc = enc.fit_transform(X_train_cat, y_train)\n",
    "\n",
    "# Convert these columns into a DataFrame \n",
    "columns = enc.get_feature_names(input_features=X_train_cat.columns)\n",
    "X_train_cat = pd.DataFrame(X_train_enc.todense(), columns=columns, index=X_train.index)\n",
    "\n",
    "# Combine categorical and continuous features into the final dataframe\n",
    "X_train = pd.concat([X_train_cont, X_train_cat], axis=1)\n",
    "X_train_const = sm.add_constant(X_train)\n",
    "\n",
    "# Fit model & show summary\n",
    "model = sm.OLS(y_train,X_train_const).fit()\n",
    "model.summary()"
   ]
  },
  {
   "cell_type": "code",
   "execution_count": null,
   "metadata": {
    "colab": {},
    "colab_type": "code",
    "id": "-WZ3MVyjC_Kj"
   },
   "outputs": [],
   "source": [
    "# %run ../python_files/regression\n",
    "\n",
    "# # Split data into training and test sets\n",
    "# X_train, X_test, y_train, y_test = get_train_test_split(df, test_size=0.25)\n",
    "# X_train_const = sm.add_constant(X_train)\n",
    "\n",
    "# # Fit model & show summary\n",
    "# OLS(y_train,X_train_const)\n"
   ]
  },
  {
   "cell_type": "code",
   "execution_count": null,
   "metadata": {
    "colab": {},
    "colab_type": "code",
    "id": "j1sbtfmC1MeC"
   },
   "outputs": [],
   "source": [
    "# LinearRegression(X_train, y_train)"
   ]
  },
  {
   "cell_type": "code",
   "execution_count": null,
   "metadata": {
    "colab": {
     "base_uri": "https://localhost:8080/",
     "height": 82
    },
    "colab_type": "code",
    "id": "mumtGrEQ1S5r",
    "outputId": "2374017a-8995-4e21-ddcc-337eecb0929a"
   },
   "outputs": [],
   "source": [
    "# Fit the model\n",
    "linreg = LinearRegression()\n",
    "linreg.fit(X_train, y_train)\n",
    "\n",
    "# Print R2 and MSE for training set\n",
    "print('Training r^2:', linreg.score(X_train, y_train))\n",
    "print('Training MSE:', mean_squared_error(y_train, linreg.predict(X_train)))\n",
    "\n",
    "linreg.coef_"
   ]
  },
  {
   "cell_type": "code",
   "execution_count": null,
   "metadata": {},
   "outputs": [],
   "source": [
    "# Lasso(X_train, y_train)"
   ]
  },
  {
   "cell_type": "code",
   "execution_count": null,
   "metadata": {
    "colab": {},
    "colab_type": "code",
    "id": "PmzII7YBcrzE"
   },
   "outputs": [],
   "source": [
    "from sklearn.linear_model import Lasso\n",
    "\n",
    "lasso = Lasso(alpha=1) # Lasso is also known as the L1 norm \n",
    "lasso.fit(X_train, y_train)\n",
    "\n",
    "print('Training r^2:', lasso.score(X_train, y_train))\n",
    "print('Training MSE:', mean_squared_error(y_train, lasso.predict(X_train)))\n",
    "\n",
    "lasso.coef_"
   ]
  },
  {
   "cell_type": "code",
   "execution_count": null,
   "metadata": {},
   "outputs": [],
   "source": [
    "# Ridge(X_train, y_train)"
   ]
  },
  {
   "cell_type": "code",
   "execution_count": null,
   "metadata": {
    "colab": {},
    "colab_type": "code",
    "id": "2EmYvvLsw-Hq"
   },
   "outputs": [],
   "source": [
    "from sklearn.linear_model import Ridge\n",
    "\n",
    "ridge = Ridge(alpha=10) # Ridge is also known as the L2 norm\n",
    "ridge.fit(X_train, y_train)\n",
    "\n",
    "print('Training r^2:', ridge.score(X_train, y_train))\n",
    "print('Training MSE:', mean_squared_error(y_train, ridge.predict(X_train)))\n",
    "\n",
    "ridge.coef_"
   ]
  },
  {
   "cell_type": "code",
   "execution_count": null,
   "metadata": {
    "colab": {},
    "colab_type": "code",
    "id": "aNZ7DU3ubYEa"
   },
   "outputs": [],
   "source": []
  },
  {
   "cell_type": "code",
   "execution_count": null,
   "metadata": {
    "colab": {},
    "colab_type": "code",
    "id": "K_Cc4xyphA1_"
   },
   "outputs": [],
   "source": []
  },
  {
   "cell_type": "code",
   "execution_count": null,
   "metadata": {
    "colab": {},
    "colab_type": "code",
    "id": "SiLcSfxkbIWb"
   },
   "outputs": [],
   "source": []
  },
  {
   "cell_type": "code",
   "execution_count": null,
   "metadata": {
    "colab": {},
    "colab_type": "code",
    "id": "u6j4D-atgEGT"
   },
   "outputs": [],
   "source": []
  }
 ],
 "metadata": {
  "accelerator": "GPU",
  "colab": {
   "include_colab_link": true,
   "machine_shape": "hm",
   "name": "rideshare_EDA.ipynb",
   "provenance": []
  },
  "kernelspec": {
   "display_name": "Python 3",
   "language": "python",
   "name": "python3"
  },
  "language_info": {
   "codemirror_mode": {
    "name": "ipython",
    "version": 3
   },
   "file_extension": ".py",
   "mimetype": "text/x-python",
   "name": "python",
   "nbconvert_exporter": "python",
   "pygments_lexer": "ipython3",
   "version": "3.7.4"
  }
 },
 "nbformat": 4,
 "nbformat_minor": 4
}
